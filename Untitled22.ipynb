{
  "nbformat": 4,
  "nbformat_minor": 0,
  "metadata": {
    "colab": {
      "provenance": []
    },
    "kernelspec": {
      "name": "python3",
      "display_name": "Python 3"
    },
    "language_info": {
      "name": "python"
    }
  },
  "cells": [
    {
      "cell_type": "markdown",
      "source": [
        "#SVM & Naive bayes"
      ],
      "metadata": {
        "id": "svUWvU0e8fV4"
      }
    },
    {
      "cell_type": "markdown",
      "source": [
        "## Theoretical"
      ],
      "metadata": {
        "id": "8dtfEYKR8-xL"
      }
    },
    {
      "cell_type": "markdown",
      "source": [
        "1. What is a Support Vector Machine (SVM)?\n",
        "\n",
        "Answer:\n",
        "\n",
        "A **Support Vector Machine (SVM)** is a supervised machine learning algorithm mainly used for classification and sometimes for regression. It works by finding the best separating boundary, called a **hyperplane**, between data points of different classes. The main objective of SVM is to **maximize the margin** between the hyperplane and the nearest data points from each class.\n",
        "\n",
        "The data points that lie closest to the hyperplane are known as **support vectors**. These are important because they determine the position and orientation of the hyperplane. The **margin** refers to the distance between the hyperplane and the support vectors, and a larger margin generally gives a more reliable classifier.\n",
        "\n",
        "When data is not linearly separable, SVM applies the **kernel trick**. Kernels map data into a higher-dimensional space where it becomes easier to separate the classes. Commonly used kernels are **linear, polynomial, radial basis function (RBF),** and **sigmoid**.\n",
        "\n",
        "The **advantages** of SVM include effectiveness in high-dimensional spaces, ability to work well when the number of features is greater than the number of samples, and robustness against overfitting when there is a clear margin. The **disadvantages** include being computationally expensive for large datasets, sensitivity to the choice of kernel and parameters, and not directly providing probability estimates.\n",
        "\n",
        "In summary, SVM is a powerful and flexible algorithm that uses support vectors and kernels to build both linear and non-linear classifiers.\n",
        "\n",
        "---"
      ],
      "metadata": {
        "id": "msQMT6V49EMJ"
      }
    },
    {
      "cell_type": "markdown",
      "source": [
        "2. What is the difference between Hard Margin and Soft Margin SVM?\n",
        "\n",
        "Answer:\n",
        "\n",
        "A **Hard Margin SVM** is used when the data is perfectly linearly separable. It finds a **hyperplane** that completely separates the classes with **no misclassification allowed**. The margin must be clear, and all data points must lie on the correct side of the boundary. The advantage is that it gives a clear separation, but the disadvantage is that it is very sensitive to noise and outliers.\n",
        "\n",
        "A **Soft Margin SVM** allows some **misclassifications or violations** of the margin to improve generalization. It introduces a penalty parameter **C**, which controls the trade-off between maximizing the margin and minimizing classification errors. A large value of C tries to classify all points correctly (less tolerance), while a small value of C allows more misclassifications (more tolerance).\n",
        "\n",
        "In summary, **Hard Margin SVM** is strict and works only when data is perfectly separable, whereas **Soft Margin SVM** is more flexible and works well with noisy or overlapping data.\n",
        "\n",
        "---"
      ],
      "metadata": {
        "id": "bJ19oL6rCYKI"
      }
    },
    {
      "cell_type": "markdown",
      "source": [
        "3. What is the mathematical intuition behind SVM?\n",
        "\n",
        "Answer:\n",
        "\n",
        "The mathematical intuition behind a **Support Vector Machine (SVM)** lies in finding a **hyperplane** that separates two classes with the **maximum margin**. The margin is the distance between the hyperplane and the nearest data points from each class, called the **support vectors**. Maximizing this margin improves the generalization ability of the classifier.\n",
        "\n",
        "For a binary classification problem with training data $((x_i, y_i))$, where $(x_i)$ is the feature vector and $(y_i \\in {-1, +1})$ is the class label, the decision boundary is defined as:\n",
        "\n",
        "$$\n",
        "w \\cdot x + b = 0\n",
        "$$\n",
        "\n",
        "Here, $w$ is the weight vector (perpendicular to the hyperplane) and $b$ is the bias term. The goal is to find $w$ and $b$ that maximize the margin.\n",
        "\n",
        "The margin is given by:\n",
        "\n",
        "$$\n",
        "\\text{Margin} = \\frac{2}{|w|}\n",
        "$$\n",
        "\n",
        "Thus, maximizing the margin is equivalent to **minimizing $||w||$**, subject to the constraint:\n",
        "\n",
        "$$\n",
        "y_i (w \\cdot x_i + b) \\geq 1 \\quad \\forall i\n",
        "$$\n",
        "\n",
        "When the data is not perfectly separable, a **Soft Margin SVM** introduces slack variables $(\\xi_i)$ to allow some violations, and a regularization parameter **C** to control the trade-off between margin size and classification error.\n",
        "\n",
        "In non-linear cases, SVM uses the **kernel trick**, where the input features are mapped into a higher-dimensional space using a kernel function $K(x_i, x_j)$, making the data linearly separable in that transformed space.\n",
        "\n",
        "In summary, the mathematical intuition behind SVM is to **find the hyperplane that maximizes the margin**, formulated as an **optimization problem** that minimizes $||w||$ under classification constraints, with flexibility introduced through soft margins and kernel functions.\n",
        "\n",
        "---"
      ],
      "metadata": {
        "id": "71KcmINHCmuW"
      }
    },
    {
      "cell_type": "markdown",
      "source": [
        "4. What is the role of Lagrange Multipliers in SVM?\n",
        "\n",
        "Answer:  \n",
        "\n",
        "The role of **Lagrange Multipliers** in SVM is to solve the optimization problem of maximizing the margin while satisfying the classification constraints. Instead of directly minimizing $||w||$ subject to the constraints $y_i (w \\cdot x_i + b) \\geq 1$, SVM reformulates the problem using the **Lagrangian method**.  \n",
        "\n",
        "By introducing **Lagrange multipliers $\\alpha_i \\geq 0$** for each training example, the constrained optimization problem is converted into an **unconstrained optimization problem**. The primal problem is expressed as:  \n",
        "\n",
        "$$\n",
        "L(w, b, \\alpha) = \\frac{1}{2} ||w||^2 - \\sum_{i=1}^n \\alpha_i \\big[ y_i (w \\cdot x_i + b) - 1 \\big]\n",
        "$$  \n",
        "\n",
        "Here, the multipliers $\\alpha_i$ enforce the constraint that each data point lies on the correct side of the margin.  \n",
        "\n",
        "The solution is found by applying the **Karush-Kuhn-Tucker (KKT) conditions**, which state that only some data points (the **support vectors**) will have non-zero multipliers. This means the decision boundary depends only on the support vectors, not all training data.  \n",
        "\n",
        "In summary, **Lagrange Multipliers allow SVM to transform a constrained optimization into a solvable dual problem**, making it easier to apply the kernel trick and ensuring that only support vectors influence the final decision boundary.  \n",
        "\n",
        "---"
      ],
      "metadata": {
        "id": "XwyvvwcCEJZK"
      }
    },
    {
      "cell_type": "markdown",
      "source": [
        "5. What are Support Vectors in SVM?\n",
        "\n",
        "Answer:\n",
        "\n",
        "**Support vectors** are the **data points closest to the hyperplane** in a Support Vector Machine (SVM). They are critical because they **define the position and orientation of the hyperplane**.\n",
        "\n",
        "The margin of an SVM is determined by the distance between the hyperplane and these support vectors. Any other points that are farther away from the hyperplane do not influence the boundary.\n",
        "\n",
        "In the mathematical formulation, support vectors are the points for which the Lagrange multipliers $\\alpha_i$ are **non-zero**. For these points, the constraint:\n",
        "\n",
        "$$\n",
        "y_i (w \\cdot x_i + b) = 1\n",
        "$$\n",
        "\n",
        "holds exactly, meaning they lie on the edge of the margin.\n",
        "\n",
        "In summary, **support vectors are the most important training points in SVM**, as they **directly determine the optimal hyperplane** and the margin, while all other points have no effect on the decision boundary.\n",
        "\n",
        "---"
      ],
      "metadata": {
        "id": "sv-rspyQJGMY"
      }
    },
    {
      "cell_type": "markdown",
      "source": [
        "6. What is a Support Vector Classifier (SVC)?\n",
        "\n",
        "Answer:\n",
        "\n",
        "A **Support Vector Classifier (SVC)** is an extension of the Support Vector Machine (SVM) used for **classification problems**, especially when the data is **not perfectly linearly separable**. It introduces a **soft margin** to allow some misclassifications while still trying to **maximize the margin** between classes.\n",
        "\n",
        "SVC uses **slack variables $\\xi_i$** to measure the degree of misclassification for each data point and a **regularization parameter C** to control the trade-off between maximizing the margin and minimizing classification errors. A large value of **C** gives less tolerance to misclassification, while a smaller value allows more flexibility for noisy data.\n",
        "\n",
        "In non-linear cases, SVC can use **kernel functions** like **linear, polynomial, or RBF** to map data into a higher-dimensional space, where it becomes linearly separable.\n",
        "\n",
        "In summary, a **Support Vector Classifier (SVC) is a soft-margin SVM** that can handle both **linearly separable and non-separable data**, providing flexibility through **slack variables and kernels** while focusing on maximizing the margin.\n",
        "\n",
        "---"
      ],
      "metadata": {
        "id": "u8vEwR96JKYv"
      }
    },
    {
      "cell_type": "markdown",
      "source": [
        "7. What is a Support Vector Regressor (SVR)?\n",
        "\n",
        "Answer:\n",
        "\n",
        "A **Support Vector Regressor (SVR)** is the extension of Support Vector Machines (SVM) for **regression problems**. Instead of classifying data, SVR tries to **predict continuous values** while maintaining the **maximum margin of tolerance** around the predicted function.\n",
        "\n",
        "SVR introduces a **margin of tolerance $\\epsilon$**, within which errors are ignored. Data points that fall outside this margin are penalized using **slack variables $\\xi_i$ and $\\xi_i^*$**, and a **regularization parameter C** controls the trade-off between model complexity and the allowed deviations.\n",
        "\n",
        "The regression function is formulated as:\n",
        "\n",
        "$$\n",
        "f(x) = w \\cdot x + b\n",
        "$$\n",
        "\n",
        "The goal is to find $w$ and $b$ such that the predictions lie within the **$\\epsilon$-tube** around the actual data points while **minimizing $||w||$**.\n",
        "\n",
        "SVR can also use **kernel functions** like **linear, polynomial, or RBF** to handle non-linear regression by mapping input features into higher-dimensional spaces.\n",
        "\n",
        "In summary, a **Support Vector Regressor (SVR) is a regression version of SVM** that predicts continuous values while **ignoring small errors within a margin**, controlling deviations with **slack variables and kernels**.\n"
      ],
      "metadata": {
        "id": "9ZKDKvBmKEAC"
      }
    },
    {
      "cell_type": "markdown",
      "source": [
        "8. What is the Kernel Trick in SVM?  \n",
        "\n",
        "Answer:  \n",
        "\n",
        "The **Kernel Trick** in SVM is a technique used to handle **non-linearly separable data**. It allows SVM to map the input data from its original space to a **higher-dimensional feature space**, where it becomes **linearly separable**, without explicitly computing the transformation.  \n",
        "\n",
        "A **kernel function $K(x_i, x_j)$** calculates the **inner product** of two points in the higher-dimensional space directly, saving computation. Common kernels include **linear, polynomial, radial basis function (RBF),** and **sigmoid**.  \n",
        "\n",
        "By using kernels, SVM can construct a **hyperplane in the transformed space** that corresponds to a **non-linear decision boundary in the original space**, enabling it to classify complex datasets effectively.  \n",
        "\n",
        "In summary, the **Kernel Trick allows SVM to perform non-linear classification efficiently** by implicitly mapping data to higher dimensions using **kernel functions**.  \n",
        "\n",
        "---"
      ],
      "metadata": {
        "id": "aZMlWTRJKOR7"
      }
    },
    {
      "cell_type": "markdown",
      "source": [
        "9. Compare Linear Kernel, Polynomial Kernel, and RBF Kernel  \n",
        "\n",
        "Answer:  \n",
        "\n",
        "**Linear Kernel:** The linear kernel is used when data is **linearly separable**. It does not map data to a higher-dimensional space and is computationally efficient. The decision boundary is a **straight line (or hyperplane)**. It is suitable for **high-dimensional sparse data**.  \n",
        "\n",
        "**Polynomial Kernel:** The polynomial kernel maps data into a **higher-dimensional space** using polynomial functions. It can model **non-linear relationships**. The degree of the polynomial controls the flexibility of the decision boundary. Higher degrees allow **more complex boundaries** but may lead to overfitting.  \n",
        "\n",
        "**Radial Basis Function (RBF) Kernel:** The RBF kernel maps data into an **infinite-dimensional space**. It is highly flexible and can handle **complex, non-linear data**. The **gamma parameter** controls the influence of a single training point; higher gamma means **closer influence**, lower gamma means **farther influence**.  \n",
        "\n",
        "In summary, **Linear Kernel** is simple and fast for linearly separable data, **Polynomial Kernel** handles moderate non-linearity, and **RBF Kernel** is the most flexible for complex non-linear patterns.  \n",
        "\n",
        "---"
      ],
      "metadata": {
        "id": "WjzhUV8sKW_O"
      }
    },
    {
      "cell_type": "markdown",
      "source": [
        "10. What is the effect of the C parameter in SVM?\n",
        "\n",
        "Answer:\n",
        "\n",
        "The **C parameter** in SVM is a **regularization parameter** that controls the trade-off between **maximizing the margin** and **minimizing classification errors**.\n",
        "\n",
        "A **large value of C** gives **high priority to classifying all training points correctly**, allowing fewer misclassifications. This can lead to a **narrow margin** and may cause **overfitting**.\n",
        "\n",
        "A **small value of C** allows more **misclassifications**, giving the model more flexibility to **maximize the margin**. This can improve **generalization** but may lead to **underfitting** if C is too small.\n",
        "\n",
        "In summary, **C controls the balance between margin width and classification errors**, affecting the **model’s flexibility and generalization ability**.\n",
        "\n",
        "\n",
        "---"
      ],
      "metadata": {
        "id": "RgfN-hM4KbLb"
      }
    },
    {
      "cell_type": "markdown",
      "source": [
        "11. What is the role of the Gamma parameter in RBF Kernel SVM?\n",
        "\n",
        "Answer:\n",
        "\n",
        "The **gamma parameter** in an RBF (Radial Basis Function) Kernel SVM determines the **influence of a single training point** on the decision boundary.\n",
        "\n",
        "A **high gamma** value means that each point has a **small range of influence**, resulting in a **complex and tightly-fitted boundary**. This can lead to **overfitting**.\n",
        "\n",
        "A **low gamma** value means that each point has a **large range of influence**, resulting in a **smoother and simpler boundary**, which may **underfit** the data if too low.\n",
        "\n",
        "In summary, **gamma controls the flexibility of the decision boundary in RBF Kernel SVM**, affecting how closely the model fits the training data.\n",
        "\n",
        "\n",
        "---"
      ],
      "metadata": {
        "id": "RvenJDUHKjfh"
      }
    },
    {
      "cell_type": "markdown",
      "source": [
        "12. What is the Naïve Bayes classifier, and why is it called \"Naïve\"?\n",
        "\n",
        "Answer:\n",
        "\n",
        "The **Naïve Bayes classifier** is a **probabilistic machine learning algorithm** based on **Bayes’ Theorem**, used for **classification tasks**. It predicts the probability of a class given the input features by assuming the **features are independent** of each other.\n",
        "\n",
        "It is called **“Naïve”** because it **assumes feature independence**, which is often not true in real-world data. Despite this simplification, Naïve Bayes often performs **well in practice**, especially for **text classification, spam detection, and sentiment analysis**.\n",
        "\n",
        "In summary, the **Naïve Bayes classifier uses Bayes’ Theorem with the naive assumption of feature independence** to classify data efficiently and effectively.\n",
        "\n",
        "---"
      ],
      "metadata": {
        "id": "I3VSRTjl3jCv"
      }
    },
    {
      "cell_type": "markdown",
      "source": [
        "13. What is Bayes’ Theorem\n",
        "\n",
        "Answer:\n",
        "\n",
        "**Bayes’ Theorem** is a **fundamental principle in probability theory** that describes the relationship between **conditional probabilities**. It calculates the probability of an event based on prior knowledge of related events.\n",
        "\n",
        "The theorem is mathematically expressed as:\n",
        "\n",
        "$$\n",
        "P(A|B) = \\frac{P(B|A) \\cdot P(A)}{P(B)}\n",
        "$$\n",
        "\n",
        "Here,\n",
        "\n",
        "* $P(A|B)$ is the **posterior probability** of event A given B.\n",
        "* $P(B|A)$ is the **likelihood** of observing B given A.\n",
        "* $P(A)$ is the **prior probability** of event A.\n",
        "* $P(B)$ is the **probability of event B**.\n",
        "\n",
        "In summary, **Bayes’ Theorem allows updating the probability of a hypothesis based on new evidence**, forming the foundation for probabilistic classifiers like **Naïve Bayes**.\n",
        "\n",
        "---"
      ],
      "metadata": {
        "id": "MM5axtHG3lHs"
      }
    },
    {
      "cell_type": "markdown",
      "source": [
        "14. Explain the differences between Gaussian Naïve Bayes, Multinomial Naïve Bayes, and Bernoulli Naïve Bayes\n",
        "\n",
        "Answer:\n",
        "\n",
        "**Gaussian Naïve Bayes:** This variant assumes that the **continuous features** of the data follow a **Gaussian (normal) distribution**. It is suitable for datasets with **real-valued features** and calculates the likelihood using the **mean and variance** of each feature for each class.\n",
        "\n",
        "**Multinomial Naïve Bayes:** This variant is used for **discrete features**, especially **count data** such as word frequencies in text classification. It models the data using a **multinomial distribution**, which captures the number of occurrences of each feature.\n",
        "\n",
        "**Bernoulli Naïve Bayes:** This variant is designed for **binary features**, where each feature is represented as **present (1) or absent (0)**. It models the data using a **Bernoulli distribution** and is often used for **binary text classification** (e.g., word presence/absence in a document).\n",
        "\n",
        "In summary, **Gaussian NB** is for **continuous features**, **Multinomial NB** is for **count-based discrete features**, and **Bernoulli NB** is for **binary features**, each using a different probability distribution for likelihood estimation.\n"
      ],
      "metadata": {
        "id": "t6pd8UxU3032"
      }
    },
    {
      "cell_type": "markdown",
      "source": [
        "15. When should you use Gaussian Naïve Bayes over other variants\n",
        "\n",
        "Answer:\n",
        "\n",
        "You should use **Gaussian Naïve Bayes** when the dataset contains **continuous features** that are assumed to follow a **normal (Gaussian) distribution**. It is particularly suitable when features like **height, weight, temperature, or other real-valued measurements** are involved.\n",
        "\n",
        "Gaussian Naïve Bayes calculates the **likelihood of each feature using its mean and variance** for each class, making it effective for **real-valued numerical data**. It is **not suitable for discrete or binary features**, where **Multinomial or Bernoulli Naïve Bayes** would perform better.\n",
        "\n",
        "In summary, **use Gaussian Naïve Bayes for continuous, normally distributed features** and other variants for discrete or binary data.\n",
        "\n",
        "\n",
        "---"
      ],
      "metadata": {
        "id": "vHyZlkll39rl"
      }
    },
    {
      "cell_type": "markdown",
      "source": [
        "16. What are the key assumptions made by Naïve Bayes  \n",
        "\n",
        "Answer:  \n",
        "\n",
        "The key assumptions made by **Naïve Bayes** are:  \n",
        "\n",
        "1. **Feature Independence:** All features are assumed to be **independent** of each other given the class label. This means the presence or value of one feature does not affect another.  \n",
        "\n",
        "2. **Equal Importance of Features:** Each feature contributes **equally and independently** to the probability of a class.  \n",
        "\n",
        "3. **Distribution Assumption (depending on variant):**  \n",
        "   - **Gaussian NB:** Features are assumed to follow a **normal (Gaussian) distribution**.  \n",
        "   - **Multinomial NB:** Features are **discrete counts**, modeled using a multinomial distribution.  \n",
        "   - **Bernoulli NB:** Features are **binary (0 or 1)**, modeled using a Bernoulli distribution.  \n",
        "\n",
        "In summary, Naïve Bayes **assumes feature independence and specific feature distributions** depending on the variant, which simplifies computation and enables efficient probabilistic classification.\n",
        "\n",
        "---"
      ],
      "metadata": {
        "id": "nI0ARZRL4S8M"
      }
    },
    {
      "cell_type": "markdown",
      "source": [
        "17. What are the advantages and disadvantages of Naïve Bayes\n",
        "\n",
        "Answer:\n",
        "\n",
        "**Advantages:**\n",
        "\n",
        "* **Simple and fast:** Easy to implement and computationally efficient, even for large datasets.\n",
        "* **Works well with high-dimensional data:** Performs well with a large number of features, such as text classification.\n",
        "* **Handles both continuous and discrete data:** Different variants (Gaussian, Multinomial, Bernoulli) allow flexibility.\n",
        "* **Requires relatively small training data:** Can achieve good performance with limited data.\n",
        "\n",
        "**Disadvantages:**\n",
        "\n",
        "* **Feature independence assumption:** Assumes features are independent, which is often not true in real-world data, potentially reducing accuracy.\n",
        "* **Zero probability problem:** If a feature value never appears in the training data for a class, it can result in zero probability. This can be mitigated with **Laplace smoothing**.\n",
        "* **Limited expressiveness:** Cannot capture complex relationships between features due to its naive assumption.\n",
        "\n",
        "In summary, Naïve Bayes is **fast, simple, and effective** for many tasks but may **underperform when features are highly correlated or complex dependencies exist**.\n",
        "\n",
        "\n",
        "---"
      ],
      "metadata": {
        "id": "9kMQ_-lP4cXx"
      }
    },
    {
      "cell_type": "markdown",
      "source": [
        "18. Why is Naïve Bayes a good choice for text classification\n",
        "\n",
        "Answer:\n",
        "\n",
        "**Naïve Bayes** is a good choice for text classification because:\n",
        "\n",
        "* **Handles high-dimensional data efficiently:** Text data often has thousands of features (words), and Naïve Bayes can manage them well.\n",
        "* **Based on word probabilities:** It uses the **frequency or presence of words** to calculate class probabilities, which aligns naturally with tasks like spam detection or sentiment analysis.\n",
        "* **Fast and scalable:** Training and prediction are computationally inexpensive, making it suitable for **large text datasets**.\n",
        "* **Works well with sparse data:** Text data represented as word counts or binary indicators is usually sparse, and Naïve Bayes handles this efficiently.\n",
        "\n",
        "In summary, **Naïve Bayes is simple, fast, and effective for high-dimensional, sparse text data**, making it ideal for text classification problems.\n",
        "\n",
        "---"
      ],
      "metadata": {
        "id": "zLmch8H44eD_"
      }
    },
    {
      "cell_type": "markdown",
      "source": [
        "19. Compare SVM and Naïve Bayes for classification tasks\n",
        "\n",
        "Answer:\n",
        "\n",
        "**Support Vector Machine (SVM):**\n",
        "\n",
        "* **Approach:** SVM is a **discriminative classifier** that finds the **optimal hyperplane** to separate classes.\n",
        "* **Data type:** Works well with **high-dimensional numerical data**.\n",
        "* **Performance:** Effective for **linearly and non-linearly separable data** using kernels.\n",
        "* **Assumptions:** Makes **no assumptions about feature independence**.\n",
        "* **Training:** Can be **computationally expensive**, especially with large datasets.\n",
        "\n",
        "**Naïve Bayes:**\n",
        "\n",
        "* **Approach:** Naïve Bayes is a **probabilistic classifier** based on **Bayes’ Theorem**.\n",
        "* **Data type:** Works well with **text data, categorical features, and sparse datasets**.\n",
        "* **Performance:** Assumes **feature independence**, which may reduce accuracy if features are correlated.\n",
        "* **Assumptions:** Assumes **features are independent given the class label**.\n",
        "* **Training:** **Fast and efficient**, suitable for large datasets.\n",
        "\n",
        "In summary, **SVM is preferred for numerical, complex, or high-dimensional data** with potential non-linear patterns, while **Naïve Bayes is ideal for text classification and categorical or sparse data**, offering speed and simplicity.\n",
        "\n",
        "\n",
        "---"
      ],
      "metadata": {
        "id": "csDDD5Cu4oT5"
      }
    },
    {
      "cell_type": "markdown",
      "source": [
        "20. How does Laplace Smoothing help in Naïve Bayes\n",
        "\n",
        "Answer:\n",
        "\n",
        "**Laplace Smoothing** is used in Naïve Bayes to **handle the zero probability problem**. This problem occurs when a **feature value does not appear in the training data** for a particular class, which would make the probability of that class zero.\n",
        "\n",
        "Laplace Smoothing adds a **small constant (usually 1)** to all feature counts, ensuring that **no probability is ever zero**. The adjusted probability is calculated as:\n",
        "\n",
        "$$\n",
        "P(x_i|y) = \\frac{\\text{count}(x_i, y) + 1}{\\text{count}(y) + k}\n",
        "$$\n",
        "\n",
        "where $k$ is the **number of possible feature values**.\n",
        "\n",
        "In summary, **Laplace Smoothing prevents zero probabilities**, allowing Naïve Bayes to **make predictions even for unseen feature values** and improving robustness in classification tasks.\n",
        "\n",
        "---\n",
        "---"
      ],
      "metadata": {
        "id": "6b0d4q0j4xc9"
      }
    },
    {
      "cell_type": "markdown",
      "source": [
        "##Practical"
      ],
      "metadata": {
        "id": "Tr1s5Z7N46dK"
      }
    },
    {
      "cell_type": "markdown",
      "source": [
        "21. Write a Python program to train an SVM Classifier on the Iris dataset and evaluate accuracy."
      ],
      "metadata": {
        "id": "rsngj86g477Y"
      }
    },
    {
      "cell_type": "code",
      "execution_count": 1,
      "metadata": {
        "colab": {
          "base_uri": "https://localhost:8080/"
        },
        "id": "DTKHLwwo8c65",
        "outputId": "0b4eaf8e-4188-4b09-8ae9-e4c8a25e1afe"
      },
      "outputs": [
        {
          "output_type": "stream",
          "name": "stdout",
          "text": [
            "SVM Classifier Accuracy on Iris dataset: 1.00\n"
          ]
        }
      ],
      "source": [
        "# Answer:\n",
        "from sklearn import datasets\n",
        "from sklearn.model_selection import train_test_split\n",
        "from sklearn.svm import SVC\n",
        "from sklearn.metrics import accuracy_score\n",
        "\n",
        "iris = datasets.load_iris()\n",
        "X = iris.data\n",
        "y = iris.target\n",
        "\n",
        "X_train, X_test, y_train, y_test = train_test_split(X, y, test_size=0.2, random_state=42)\n",
        "\n",
        "svm_classifier = SVC(kernel='rbf', C=1.0, gamma='scale')\n",
        "\n",
        "svm_classifier.fit(X_train, y_train)\n",
        "\n",
        "y_pred = svm_classifier.predict(X_test)\n",
        "\n",
        "accuracy = accuracy_score(y_test, y_pred)\n",
        "print(f\"SVM Classifier Accuracy on Iris dataset: {accuracy:.2f}\")"
      ]
    },
    {
      "cell_type": "markdown",
      "source": [
        "22. Write a Python program to train two SVM classifiers with Linear and RBF kernels on the Wine dataset, then compare their accuracies."
      ],
      "metadata": {
        "id": "mM132aGl5l2Z"
      }
    },
    {
      "cell_type": "code",
      "source": [
        "#Answer:\n",
        "\n",
        "from sklearn import datasets\n",
        "from sklearn.model_selection import train_test_split\n",
        "from sklearn.svm import SVC\n",
        "from sklearn.metrics import accuracy_score\n",
        "\n",
        "wine = datasets.load_wine()\n",
        "X = wine.data\n",
        "y = wine.target\n",
        "\n",
        "X_train, X_test, y_train, y_test = train_test_split(X, y, test_size=0.2, random_state=42)\n",
        "\n",
        "svm_linear = SVC(kernel='linear', C=1.0)\n",
        "svm_rbf = SVC(kernel='rbf', C=1.0, gamma='scale')\n",
        "\n",
        "svm_linear.fit(X_train, y_train)\n",
        "svm_rbf.fit(X_train, y_train)\n",
        "\n",
        "y_pred_linear = svm_linear.predict(X_test)\n",
        "y_pred_rbf = svm_rbf.predict(X_test)\n",
        "\n",
        "accuracy_linear = accuracy_score(y_test, y_pred_linear)\n",
        "accuracy_rbf = accuracy_score(y_test, y_pred_rbf)\n",
        "\n",
        "print(f\"SVM with Linear Kernel Accuracy: {accuracy_linear:.2f}\")\n",
        "print(f\"SVM with RBF Kernel Accuracy: {accuracy_rbf:.2f}\")\n"
      ],
      "metadata": {
        "colab": {
          "base_uri": "https://localhost:8080/"
        },
        "id": "gYtdNCOQ5czO",
        "outputId": "b9b9d68f-aa92-4ee7-d305-1d5d27c84cf4"
      },
      "execution_count": 2,
      "outputs": [
        {
          "output_type": "stream",
          "name": "stdout",
          "text": [
            "SVM with Linear Kernel Accuracy: 1.00\n",
            "SVM with RBF Kernel Accuracy: 0.81\n"
          ]
        }
      ]
    },
    {
      "cell_type": "markdown",
      "source": [
        "23. Write a Python program to train an SVM Regressor (SVR) on a housing dataset and evaluate it using Mean Squared Error (MSE)."
      ],
      "metadata": {
        "id": "w4dvUs_q6ApW"
      }
    },
    {
      "cell_type": "code",
      "source": [
        "#Answer:\n",
        "from sklearn.datasets import fetch_california_housing\n",
        "from sklearn.model_selection import train_test_split\n",
        "from sklearn.svm import SVR\n",
        "from sklearn.metrics import mean_squared_error\n",
        "from sklearn.preprocessing import StandardScaler\n",
        "\n",
        "housing = fetch_california_housing()\n",
        "X = housing.data\n",
        "y = housing.target\n",
        "\n",
        "X_train, X_test, y_train, y_test = train_test_split(X, y, test_size=0.2, random_state=42)\n",
        "\n",
        "scaler = StandardScaler()\n",
        "X_train_scaled = scaler.fit_transform(X_train)\n",
        "X_test_scaled = scaler.transform(X_test)\n",
        "\n",
        "svr_model = SVR(kernel='rbf', C=100, gamma=0.1, epsilon=0.1)\n",
        "svr_model.fit(X_train_scaled, y_train)\n",
        "\n",
        "y_pred = svr_model.predict(X_test_scaled)\n",
        "\n",
        "mse = mean_squared_error(y_test, y_pred)\n",
        "print(f\"SVR Mean Squared Error: {mse:.2f}\")\n"
      ],
      "metadata": {
        "colab": {
          "base_uri": "https://localhost:8080/"
        },
        "id": "izR110Py6Kc3",
        "outputId": "82ec1ef1-7811-4bce-e8ef-8b1597ba24f5"
      },
      "execution_count": 4,
      "outputs": [
        {
          "output_type": "stream",
          "name": "stdout",
          "text": [
            "SVR Mean Squared Error: 0.32\n"
          ]
        }
      ]
    },
    {
      "cell_type": "markdown",
      "source": [
        "24. Write a Python program to train an SVM Classifier with a Polynomial Kernel and visualize the decision boundary."
      ],
      "metadata": {
        "id": "QIbuLjpR6Ttw"
      }
    },
    {
      "cell_type": "code",
      "source": [
        "import numpy as np\n",
        "import matplotlib.pyplot as plt\n",
        "from sklearn import datasets\n",
        "from sklearn.svm import SVC\n",
        "\n",
        "X, y = datasets.make_moons(n_samples=200, noise=0.2, random_state=42)\n",
        "\n",
        "svm_poly = SVC(kernel='poly', degree=3, C=1.0)\n",
        "svm_poly.fit(X, y)\n",
        "\n",
        "x_min, x_max = X[:, 0].min() - 1, X[:, 0].max() + 1\n",
        "y_min, y_max = X[:, 1].min() - 1, X[:, 1].max() + 1\n",
        "xx, yy = np.meshgrid(np.arange(x_min, x_max, 0.01),\n",
        "                     np.arange(y_min, y_max, 0.01))\n",
        "\n",
        "Z = svm_poly.predict(np.c_[xx.ravel(), yy.ravel()])\n",
        "Z = Z.reshape(xx.shape)\n",
        "\n",
        "plt.contourf(xx, yy, Z, alpha=0.3, cmap=plt.cm.coolwarm)\n",
        "plt.scatter(X[:, 0], X[:, 1], c=y, s=50, cmap=plt.cm.coolwarm, edgecolors='k')\n",
        "plt.title(\"SVM with Polynomial Kernel Decision Boundary\")\n",
        "plt.xlabel(\"Feature 1\")\n",
        "plt.ylabel(\"Feature 2\")\n",
        "plt.show()\n"
      ],
      "metadata": {
        "colab": {
          "base_uri": "https://localhost:8080/",
          "height": 472
        },
        "id": "1kzx8Gxf50lx",
        "outputId": "ae3e8603-14ea-4b13-e2e4-d975764aed7d"
      },
      "execution_count": 5,
      "outputs": [
        {
          "output_type": "display_data",
          "data": {
            "text/plain": [
              "<Figure size 640x480 with 1 Axes>"
            ],
            "image/png": "[encoded data removed]"
          },
          "metadata": {}
        }
      ]
    },
    {
      "cell_type": "markdown",
      "source": [
        "25. Write a Python program to train a Gaussian Naïve Bayes classifier on the Breast Cancer dataset and evaluate accuracy."
      ],
      "metadata": {
        "id": "ALwpvww46jKG"
      }
    },
    {
      "cell_type": "code",
      "source": [
        "#Answer:\n",
        "\n",
        "from sklearn.datasets import load_breast_cancer\n",
        "from sklearn.model_selection import train_test_split\n",
        "from sklearn.naive_bayes import GaussianNB\n",
        "from sklearn.metrics import accuracy_score\n",
        "\n",
        "data = load_breast_cancer()\n",
        "X = data.data\n",
        "y = data.target\n",
        "\n",
        "X_train, X_test, y_train, y_test = train_test_split(X, y, test_size=0.2, random_state=42)\n",
        "\n",
        "gnb = GaussianNB()\n",
        "gnb.fit(X_train, y_train)\n",
        "\n",
        "y_pred = gnb.predict(X_test)\n",
        "\n",
        "accuracy = accuracy_score(y_test, y_pred)\n",
        "print(f\"Gaussian Naïve Bayes Accuracy: {accuracy:.2f}\")\n"
      ],
      "metadata": {
        "colab": {
          "base_uri": "https://localhost:8080/"
        },
        "id": "y3uC65qf6dlR",
        "outputId": "c7d8105a-7770-49e3-cc19-5b9807a1e962"
      },
      "execution_count": 6,
      "outputs": [
        {
          "output_type": "stream",
          "name": "stdout",
          "text": [
            "Gaussian Naïve Bayes Accuracy: 0.97\n"
          ]
        }
      ]
    },
    {
      "cell_type": "markdown",
      "source": [
        "26. Write a Python program to train a Multinomial Naïve Bayes classifier for text classification using the 20 Newsgroups dataset."
      ],
      "metadata": {
        "id": "lO8Y8icv69yI"
      }
    },
    {
      "cell_type": "code",
      "source": [
        "#Answer:\n",
        "\n",
        "from sklearn.datasets import fetch_20newsgroups\n",
        "from sklearn.feature_extraction.text import CountVectorizer\n",
        "from sklearn.model_selection import train_test_split\n",
        "from sklearn.naive_bayes import MultinomialNB\n",
        "from sklearn.metrics import accuracy_score\n",
        "\n",
        "newsgroups = fetch_20newsgroups(subset='all')\n",
        "X = newsgroups.data\n",
        "y = newsgroups.target\n",
        "\n",
        "vectorizer = CountVectorizer()\n",
        "X_vect = vectorizer.fit_transform(X)\n",
        "\n",
        "X_train, X_test, y_train, y_test = train_test_split(X_vect, y, test_size=0.2, random_state=42)\n",
        "\n",
        "mnb = MultinomialNB()\n",
        "mnb.fit(X_train, y_train)\n",
        "\n",
        "y_pred = mnb.predict(X_test)\n",
        "\n",
        "accuracy = accuracy_score(y_test, y_pred)\n",
        "print(f\"Multinomial Naïve Bayes Accuracy: {accuracy:.2f}\")\n"
      ],
      "metadata": {
        "colab": {
          "base_uri": "https://localhost:8080/"
        },
        "id": "f3-C7Dq6635p",
        "outputId": "9466da35-8a97-471e-ac27-186a9bae2dd3"
      },
      "execution_count": 7,
      "outputs": [
        {
          "output_type": "stream",
          "name": "stdout",
          "text": [
            "Multinomial Naïve Bayes Accuracy: 0.85\n"
          ]
        }
      ]
    },
    {
      "cell_type": "markdown",
      "source": [
        "27. Write a Python program to train an SVM Classifier with different C values and compare the decision boundaries visually."
      ],
      "metadata": {
        "id": "LaPiM97m7KcP"
      }
    },
    {
      "cell_type": "code",
      "source": [
        "#Answer:\n",
        "\n",
        "import numpy as np\n",
        "import matplotlib.pyplot as plt\n",
        "from sklearn import datasets\n",
        "from sklearn.svm import SVC\n",
        "\n",
        "X, y = datasets.make_moons(n_samples=200, noise=0.2, random_state=42)\n",
        "\n",
        "C_values = [0.1, 1, 10]\n",
        "plt.figure(figsize=(15, 4))\n",
        "\n",
        "for i, C in enumerate(C_values):\n",
        "    svm = SVC(kernel='rbf', C=C, gamma='scale')\n",
        "    svm.fit(X, y)\n",
        "\n",
        "    x_min, x_max = X[:, 0].min() - 1, X[:, 0].max() + 1\n",
        "    y_min, y_max = X[:, 1].min() - 1, X[:, 1].max() + 1\n",
        "    xx, yy = np.meshgrid(np.arange(x_min, x_max, 0.01),\n",
        "                         np.arange(y_min, y_max, 0.01))\n",
        "\n",
        "    Z = svm.predict(np.c_[xx.ravel(), yy.ravel()])\n",
        "    Z = Z.reshape(xx.shape)\n",
        "\n",
        "    plt.subplot(1, 3, i+1)\n",
        "    plt.contourf(xx, yy, Z, alpha=0.3, cmap=plt.cm.coolwarm)\n",
        "    plt.scatter(X[:, 0], X[:, 1], c=y, s=50, cmap=plt.cm.coolwarm, edgecolors='k')\n",
        "    plt.title(f\"SVM Decision Boundary (C={C})\")\n",
        "    plt.xlabel(\"Feature 1\")\n",
        "    plt.ylabel(\"Feature 2\")\n",
        "\n",
        "plt.tight_layout()\n",
        "plt.show()\n"
      ],
      "metadata": {
        "colab": {
          "base_uri": "https://localhost:8080/",
          "height": 333
        },
        "id": "wSVZlnAC7GjJ",
        "outputId": "ae03d486-3aa4-429b-9459-9c0f740e33d4"
      },
      "execution_count": 8,
      "outputs": [
        {
          "output_type": "display_data",
          "data": {
            "text/plain": [
              "<Figure size 1500x400 with 3 Axes>"
            ],
            "image/png": "[encoded data removed]"
          },
          "metadata": {}
        }
      ]
    },
    {
      "cell_type": "markdown",
      "source": [
        "28. Write a Python program to train a Bernoulli Naïve Bayes classifier for binary classification on a dataset with binary features"
      ],
      "metadata": {
        "id": "4rBKc9kw7Ugb"
      }
    },
    {
      "cell_type": "code",
      "source": [
        "#Answer:\n",
        "\n",
        "from sklearn.datasets import make_classification\n",
        "from sklearn.model_selection import train_test_split\n",
        "from sklearn.naive_bayes import BernoulliNB\n",
        "from sklearn.metrics import accuracy_score\n",
        "\n",
        "X, y = make_classification(n_samples=500, n_features=20, n_informative=15, n_redundant=5,\n",
        "                           n_classes=2, random_state=42)\n",
        "X_binary = (X > 0).astype(int)\n",
        "\n",
        "X_train, X_test, y_train, y_test = train_test_split(X_binary, y, test_size=0.2, random_state=42)\n",
        "\n",
        "bnb = BernoulliNB()\n",
        "bnb.fit(X_train, y_train)\n",
        "\n",
        "y_pred = bnb.predict(X_test)\n",
        "\n",
        "accuracy = accuracy_score(y_test, y_pred)\n",
        "print(f\"Bernoulli Naïve Bayes Accuracy: {accuracy:.2f}\")\n"
      ],
      "metadata": {
        "colab": {
          "base_uri": "https://localhost:8080/"
        },
        "id": "ROxw19yc7TlI",
        "outputId": "a0313677-49cc-4ecc-9858-076abd546f13"
      },
      "execution_count": 9,
      "outputs": [
        {
          "output_type": "stream",
          "name": "stdout",
          "text": [
            "Bernoulli Naïve Bayes Accuracy: 0.66\n"
          ]
        }
      ]
    },
    {
      "cell_type": "markdown",
      "source": [
        "29. Write a Python program to apply feature scaling before training an SVM model and compare results with unscaled data."
      ],
      "metadata": {
        "id": "avVYNuag7hKC"
      }
    },
    {
      "cell_type": "code",
      "source": [
        "#Answer:\n",
        "\n",
        "from sklearn import datasets\n",
        "from sklearn.model_selection import train_test_split\n",
        "from sklearn.svm import SVC\n",
        "from sklearn.preprocessing import StandardScaler\n",
        "from sklearn.metrics import accuracy_score\n",
        "\n",
        "iris = datasets.load_iris()\n",
        "X = iris.data\n",
        "y = iris.target\n",
        "\n",
        "X_train, X_test, y_train, y_test = train_test_split(X, y, test_size=0.2, random_state=42)\n",
        "\n",
        "svm_unscaled = SVC(kernel='rbf', C=1.0, gamma='scale')\n",
        "svm_unscaled.fit(X_train, y_train)\n",
        "y_pred_unscaled = svm_unscaled.predict(X_test)\n",
        "accuracy_unscaled = accuracy_score(y_test, y_pred_unscaled)\n",
        "\n",
        "scaler = StandardScaler()\n",
        "X_train_scaled = scaler.fit_transform(X_train)\n",
        "X_test_scaled = scaler.transform(X_test)\n",
        "\n",
        "svm_scaled = SVC(kernel='rbf', C=1.0, gamma='scale')\n",
        "svm_scaled.fit(X_train_scaled, y_train)\n",
        "y_pred_scaled = svm_scaled.predict(X_test_scaled)\n",
        "accuracy_scaled = accuracy_score(y_test, y_pred_scaled)\n",
        "\n",
        "print(f\"Accuracy without scaling: {accuracy_unscaled:.2f}\")\n",
        "print(f\"Accuracy with scaling: {accuracy_scaled:.2f}\")\n"
      ],
      "metadata": {
        "colab": {
          "base_uri": "https://localhost:8080/"
        },
        "id": "P-9ZUms17geq",
        "outputId": "7e2dd6f9-238f-4b98-ae1b-56e2509d95c3"
      },
      "execution_count": 10,
      "outputs": [
        {
          "output_type": "stream",
          "name": "stdout",
          "text": [
            "Accuracy without scaling: 1.00\n",
            "Accuracy with scaling: 1.00\n"
          ]
        }
      ]
    },
    {
      "cell_type": "markdown",
      "source": [
        "30. Write a Python program to train a Gaussian Naïve Bayes model and compare the predictions before and after Laplace Smoothing"
      ],
      "metadata": {
        "id": "UgCRzEyW72_2"
      }
    },
    {
      "cell_type": "code",
      "source": [
        "#Answer:\n",
        "\n",
        "from sklearn.datasets import load_iris\n",
        "from sklearn.model_selection import train_test_split\n",
        "from sklearn.naive_bayes import GaussianNB, MultinomialNB\n",
        "from sklearn.metrics import accuracy_score\n",
        "import numpy as np\n",
        "\n",
        "iris = load_iris()\n",
        "X = iris.data\n",
        "y = iris.target\n",
        "\n",
        "X_train, X_test, y_train, y_test = train_test_split(X, y, test_size=0.2, random_state=42)\n",
        "\n",
        "gnb = GaussianNB()\n",
        "gnb.fit(X_train, y_train)\n",
        "y_pred = gnb.predict(X_test)\n",
        "accuracy_gnb = accuracy_score(y_test, y_pred)\n",
        "\n",
        "X_train_bin = (X_train > X_train.mean(axis=0)).astype(int)\n",
        "X_test_bin = (X_test > X_train.mean(axis=0)).astype(int)\n",
        "\n",
        "mnb = MultinomialNB(alpha=1.0)\n",
        "mnb.fit(X_train_bin, y_train)\n",
        "y_pred_smooth = mnb.predict(X_test_bin)\n",
        "accuracy_smooth = accuracy_score(y_test, y_pred_smooth)\n",
        "\n",
        "print(f\"Accuracy without Laplace Smoothing (GaussianNB): {accuracy_gnb:.2f}\")\n",
        "print(f\"Accuracy with Laplace Smoothing (MultinomialNB): {accuracy_smooth:.2f}\")\n"
      ],
      "metadata": {
        "colab": {
          "base_uri": "https://localhost:8080/"
        },
        "id": "N7H2WCao7uUp",
        "outputId": "609cc120-58c6-432d-e843-8da40a07155c"
      },
      "execution_count": 11,
      "outputs": [
        {
          "output_type": "stream",
          "name": "stdout",
          "text": [
            "Accuracy without Laplace Smoothing (GaussianNB): 1.00\n",
            "Accuracy with Laplace Smoothing (MultinomialNB): 0.67\n"
          ]
        }
      ]
    },
    {
      "cell_type": "markdown",
      "source": [
        "31. Write a Python program to train an SVM Classifier and use GridSearchCV to tune the hyperparameters (C, gamma, kernel)."
      ],
      "metadata": {
        "id": "m3GH9LK28AC9"
      }
    },
    {
      "cell_type": "code",
      "source": [
        "#Answer:\n",
        "\n",
        "from sklearn import datasets\n",
        "from sklearn.model_selection import train_test_split, GridSearchCV\n",
        "from sklearn.svm import SVC\n",
        "from sklearn.metrics import accuracy_score\n",
        "\n",
        "iris = datasets.load_iris()\n",
        "X = iris.data\n",
        "y = iris.target\n",
        "\n",
        "X_train, X_test, y_train, y_test = train_test_split(X, y, test_size=0.2, random_state=42)\n",
        "\n",
        "param_grid = {\n",
        "    'C': [0.1, 1, 10],\n",
        "    'gamma': [0.01, 0.1, 1],\n",
        "    'kernel': ['linear', 'rbf', 'poly']\n",
        "}\n",
        "\n",
        "grid_search = GridSearchCV(SVC(), param_grid, cv=5)\n",
        "grid_search.fit(X_train, y_train)\n",
        "\n",
        "best_model = grid_search.best_estimator_\n",
        "y_pred = best_model.predict(X_test)\n",
        "accuracy = accuracy_score(y_test, y_pred)\n",
        "\n",
        "print(f\"Best Hyperparameters: {grid_search.best_params_}\")\n",
        "print(f\"Accuracy with best hyperparameters: {accuracy:.2f}\")\n"
      ],
      "metadata": {
        "colab": {
          "base_uri": "https://localhost:8080/"
        },
        "id": "aUn-uwzw79iC",
        "outputId": "4cf5e4d6-259a-48f9-a753-0af857eb42ea"
      },
      "execution_count": 12,
      "outputs": [
        {
          "output_type": "stream",
          "name": "stdout",
          "text": [
            "Best Hyperparameters: {'C': 0.1, 'gamma': 0.1, 'kernel': 'poly'}\n",
            "Accuracy with best hyperparameters: 1.00\n"
          ]
        }
      ]
    },
    {
      "cell_type": "markdown",
      "source": [
        "31. Write a Python program to train an SVM Classifier on an imbalanced dataset and apply class weighting and check it improve accuracy."
      ],
      "metadata": {
        "id": "nkrZkhFg8OLi"
      }
    },
    {
      "cell_type": "code",
      "source": [
        "#Answer:\n",
        "\n",
        "from sklearn.datasets import make_classification\n",
        "from sklearn.model_selection import train_test_split\n",
        "from sklearn.svm import SVC\n",
        "from sklearn.metrics import accuracy_score, classification_report\n",
        "\n",
        "X, y = make_classification(n_samples=1000, n_features=20, n_informative=15,\n",
        "                           n_redundant=5, n_classes=2, weights=[0.9, 0.1],\n",
        "                           flip_y=0, random_state=42)\n",
        "\n",
        "X_train, X_test, y_train, y_test = train_test_split(X, y, test_size=0.2, random_state=42)\n",
        "\n",
        "svm_default = SVC(kernel='rbf', C=1.0, gamma='scale')\n",
        "svm_default.fit(X_train, y_train)\n",
        "y_pred_default = svm_default.predict(X_test)\n",
        "accuracy_default = accuracy_score(y_test, y_pred_default)\n",
        "\n",
        "svm_weighted = SVC(kernel='rbf', C=1.0, gamma='scale', class_weight='balanced')\n",
        "svm_weighted.fit(X_train, y_train)\n",
        "y_pred_weighted = svm_weighted.predict(X_test)\n",
        "accuracy_weighted = accuracy_score(y_test, y_pred_weighted)\n",
        "\n",
        "print(f\"Accuracy without class weighting: {accuracy_default:.2f}\")\n",
        "print(f\"Accuracy with class weighting: {accuracy_weighted:.2f}\")\n",
        "print(\"Classification report with class weighting:\")\n",
        "print(classification_report(y_test, y_pred_weighted))\n"
      ],
      "metadata": {
        "colab": {
          "base_uri": "https://localhost:8080/"
        },
        "id": "H5XVwXrd8HbM",
        "outputId": "cb978f16-4547-4467-85af-b6c89f4d5015"
      },
      "execution_count": 13,
      "outputs": [
        {
          "output_type": "stream",
          "name": "stdout",
          "text": [
            "Accuracy without class weighting: 0.94\n",
            "Accuracy with class weighting: 0.94\n",
            "Classification report with class weighting:\n",
            "              precision    recall  f1-score   support\n",
            "\n",
            "           0       0.99      0.94      0.96       184\n",
            "           1       0.56      0.88      0.68        16\n",
            "\n",
            "    accuracy                           0.94       200\n",
            "   macro avg       0.77      0.91      0.82       200\n",
            "weighted avg       0.95      0.94      0.94       200\n",
            "\n"
          ]
        }
      ]
    },
    {
      "cell_type": "markdown",
      "source": [
        "33. Write a Python program to implement a Naïve Bayes classifier for spam detection using email data."
      ],
      "metadata": {
        "id": "UcHcVIqj8fBH"
      }
    },
    {
      "cell_type": "code",
      "source": [
        "import pandas as pd\n",
        "from sklearn.model_selection import train_test_split\n",
        "from sklearn.feature_extraction.text import CountVectorizer, TfidfTransformer\n",
        "from sklearn.naive_bayes import MultinomialNB\n",
        "from sklearn.metrics import accuracy_score, classification_report\n",
        "\n",
        "url = \"https://raw.githubusercontent.com/justmarkham/pycon-2016-tutorial/master/data/sms.tsv\"\n",
        "data = pd.read_csv(url, sep='\\t', header=None, names=['label', 'text'])\n",
        "\n",
        "data['label'] = data['label'].map({'ham': 0, 'spam': 1})\n",
        "\n",
        "X = data['text']\n",
        "y = data['label']\n",
        "\n",
        "X_train, X_test, y_train, y_test = train_test_split(X, y, test_size=0.2, random_state=42)\n",
        "\n",
        "vectorizer = CountVectorizer()\n",
        "X_train_counts = vectorizer.fit_transform(X_train)\n",
        "X_test_counts = vectorizer.transform(X_test)\n",
        "\n",
        "tfidf_transformer = TfidfTransformer()\n",
        "X_train_tfidf = tfidf_transformer.fit_transform(X_train_counts)\n",
        "X_test_tfidf = tfidf_transformer.transform(X_test_counts)\n",
        "\n",
        "nb_model = MultinomialNB()\n",
        "nb_model.fit(X_train_tfidf, y_train)\n",
        "\n",
        "y_pred = nb_model.predict(X_test_tfidf)\n",
        "accuracy = accuracy_score(y_test, y_pred)\n",
        "\n",
        "print(f\"Naïve Bayes Spam Detection Accuracy: {accuracy:.2f}\")\n",
        "print(\"Classification Report:\")\n",
        "print(classification_report(y_test, y_pred))\n"
      ],
      "metadata": {
        "colab": {
          "base_uri": "https://localhost:8080/"
        },
        "id": "U-Ps9MdY8Ygi",
        "outputId": "8a359144-45e4-4ac2-8e41-36eb2c20b3a0"
      },
      "execution_count": 14,
      "outputs": [
        {
          "output_type": "stream",
          "name": "stdout",
          "text": [
            "Naïve Bayes Spam Detection Accuracy: 0.97\n",
            "Classification Report:\n",
            "              precision    recall  f1-score   support\n",
            "\n",
            "           0       0.96      1.00      0.98       966\n",
            "           1       1.00      0.75      0.86       149\n",
            "\n",
            "    accuracy                           0.97      1115\n",
            "   macro avg       0.98      0.88      0.92      1115\n",
            "weighted avg       0.97      0.97      0.96      1115\n",
            "\n"
          ]
        }
      ]
    },
    {
      "cell_type": "markdown",
      "source": [
        "34. Write a Python program to train an SVM Classifier and a Naïve Bayes Classifier on the same dataset and compare their accuracy."
      ],
      "metadata": {
        "id": "cIdUyF5D8mPK"
      }
    },
    {
      "cell_type": "code",
      "source": [
        "from sklearn.datasets import load_breast_cancer\n",
        "from sklearn.model_selection import train_test_split\n",
        "from sklearn.svm import SVC\n",
        "from sklearn.naive_bayes import GaussianNB\n",
        "from sklearn.metrics import accuracy_score\n",
        "\n",
        "data = load_breast_cancer()\n",
        "X = data.data\n",
        "y = data.target\n",
        "\n",
        "X_train, X_test, y_train, y_test = train_test_split(X, y, test_size=0.2, random_state=42)\n",
        "\n",
        "svm_model = SVC(kernel='rbf', C=1.0, gamma='scale')\n",
        "svm_model.fit(X_train, y_train)\n",
        "y_pred_svm = svm_model.predict(X_test)\n",
        "accuracy_svm = accuracy_score(y_test, y_pred_svm)\n",
        "\n",
        "nb_model = GaussianNB()\n",
        "nb_model.fit(X_train, y_train)\n",
        "y_pred_nb = nb_model.predict(X_test)\n",
        "accuracy_nb = accuracy_score(y_test, y_pred_nb)\n",
        "\n",
        "print(f\"SVM Accuracy: {accuracy_svm:.2f}\")\n",
        "print(f\"Naïve Bayes Accuracy: {accuracy_nb:.2f}\")\n"
      ],
      "metadata": {
        "colab": {
          "base_uri": "https://localhost:8080/"
        },
        "id": "uKW33lBA8iWJ",
        "outputId": "df772730-74b1-4e39-944b-50d97df8da3c"
      },
      "execution_count": 15,
      "outputs": [
        {
          "output_type": "stream",
          "name": "stdout",
          "text": [
            "SVM Accuracy: 0.95\n",
            "Naïve Bayes Accuracy: 0.97\n"
          ]
        }
      ]
    },
    {
      "cell_type": "markdown",
      "source": [
        "35. Write a Python program to perform feature selection before training a Naïve Bayes classifier and compare results."
      ],
      "metadata": {
        "id": "PmWryXZA9L6C"
      }
    },
    {
      "cell_type": "code",
      "source": [
        "#Answer:\n",
        "\n",
        "from sklearn.datasets import load_breast_cancer\n",
        "from sklearn.model_selection import train_test_split\n",
        "from sklearn.naive_bayes import GaussianNB\n",
        "from sklearn.feature_selection import SelectKBest, chi2\n",
        "from sklearn.metrics import accuracy_score\n",
        "\n",
        "data = load_breast_cancer()\n",
        "X = data.data\n",
        "y = data.target\n",
        "\n",
        "X_train, X_test, y_train, y_test = train_test_split(X, y, test_size=0.2, random_state=42)\n",
        "\n",
        "gnb_full = GaussianNB()\n",
        "gnb_full.fit(X_train, y_train)\n",
        "y_pred_full = gnb_full.predict(X_test)\n",
        "accuracy_full = accuracy_score(y_test, y_pred_full)\n",
        "\n",
        "selector = SelectKBest(score_func=chi2, k=10)\n",
        "X_train_selected = selector.fit_transform(X_train, y_train)\n",
        "X_test_selected = selector.transform(X_test)\n",
        "\n",
        "gnb_selected = GaussianNB()\n",
        "gnb_selected.fit(X_train_selected, y_train)\n",
        "y_pred_selected = gnb_selected.predict(X_test_selected)\n",
        "accuracy_selected = accuracy_score(y_test, y_pred_selected)\n",
        "\n",
        "print(f\"Accuracy without feature selection: {accuracy_full:.2f}\")\n",
        "print(f\"Accuracy with feature selection (top 10 features): {accuracy_selected:.2f}\")\n"
      ],
      "metadata": {
        "colab": {
          "base_uri": "https://localhost:8080/"
        },
        "id": "i66bNqoD9IDv",
        "outputId": "011acc80-1afa-409a-d142-fadc7c948645"
      },
      "execution_count": 16,
      "outputs": [
        {
          "output_type": "stream",
          "name": "stdout",
          "text": [
            "Accuracy without feature selection: 0.97\n",
            "Accuracy with feature selection (top 10 features): 0.96\n"
          ]
        }
      ]
    },
    {
      "cell_type": "markdown",
      "source": [
        "36.  Write a Python program to train an SVM Classifier using One-vs-Rest (OvR) and One-vs-One (OvO) strategies on the Wine dataset and compare their accuracy."
      ],
      "metadata": {
        "id": "1wLPtvrQ9V_N"
      }
    },
    {
      "cell_type": "code",
      "source": [
        "from sklearn import datasets\n",
        "from sklearn.model_selection import train_test_split\n",
        "from sklearn.svm import SVC\n",
        "from sklearn.multiclass import OneVsRestClassifier, OneVsOneClassifier\n",
        "from sklearn.metrics import accuracy_score\n",
        "\n",
        "wine = datasets.load_wine()\n",
        "X = wine.data\n",
        "y = wine.target\n",
        "\n",
        "X_train, X_test, y_train, y_test = train_test_split(X, y, test_size=0.2, random_state=42)\n",
        "\n",
        "ovr_model = OneVsRestClassifier(SVC(kernel='rbf', C=1.0, gamma='scale'))\n",
        "ovr_model.fit(X_train, y_train)\n",
        "y_pred_ovr = ovr_model.predict(X_test)\n",
        "accuracy_ovr = accuracy_score(y_test, y_pred_ovr)\n",
        "\n",
        "ovo_model = OneVsOneClassifier(SVC(kernel='rbf', C=1.0, gamma='scale'))\n",
        "ovo_model.fit(X_train, y_train)\n",
        "y_pred_ovo = ovo_model.predict(X_test)\n",
        "accuracy_ovo = accuracy_score(y_test, y_pred_ovo)\n",
        "\n",
        "print(f\"One-vs-Rest SVM Accuracy: {accuracy_ovr:.2f}\")\n",
        "print(f\"One-vs-One SVM Accuracy: {accuracy_ovo:.2f}\")\n"
      ],
      "metadata": {
        "colab": {
          "base_uri": "https://localhost:8080/"
        },
        "id": "7e7bqsg_9S21",
        "outputId": "83191942-2ee7-4129-e3f8-501cd380becc"
      },
      "execution_count": 17,
      "outputs": [
        {
          "output_type": "stream",
          "name": "stdout",
          "text": [
            "One-vs-Rest SVM Accuracy: 0.78\n",
            "One-vs-One SVM Accuracy: 0.83\n"
          ]
        }
      ]
    },
    {
      "cell_type": "markdown",
      "source": [
        "37. Write a Python program to train an SVM Classifier using Linear, Polynomial, and RBF kernels on the Breast Cancer dataset and compare their accuracy."
      ],
      "metadata": {
        "id": "cMz3Gaev9hjl"
      }
    },
    {
      "cell_type": "code",
      "source": [
        "#Answer:\n",
        "\n",
        "from sklearn.datasets import load_breast_cancer\n",
        "from sklearn.model_selection import train_test_split\n",
        "from sklearn.svm import SVC\n",
        "from sklearn.metrics import accuracy_score\n",
        "\n",
        "data = load_breast_cancer()\n",
        "X = data.data\n",
        "y = data.target\n",
        "\n",
        "X_train, X_test, y_train, y_test = train_test_split(X, y, test_size=0.2, random_state=42)\n",
        "\n",
        "svm_linear = SVC(kernel='linear', C=1.0)\n",
        "svm_linear.fit(X_train, y_train)\n",
        "y_pred_linear = svm_linear.predict(X_test)\n",
        "accuracy_linear = accuracy_score(y_test, y_pred_linear)\n",
        "\n",
        "svm_poly = SVC(kernel='poly', degree=3, C=1.0)\n",
        "svm_poly.fit(X_train, y_train)\n",
        "y_pred_poly = svm_poly.predict(X_test)\n",
        "accuracy_poly = accuracy_score(y_test, y_pred_poly)\n",
        "\n",
        "svm_rbf = SVC(kernel='rbf', C=1.0, gamma='scale')\n",
        "svm_rbf.fit(X_train, y_train)\n",
        "y_pred_rbf = svm_rbf.predict(X_test)\n",
        "accuracy_rbf = accuracy_score(y_test, y_pred_rbf)\n",
        "\n",
        "print(f\"Linear Kernel Accuracy: {accuracy_linear:.2f}\")\n",
        "print(f\"Polynomial Kernel Accuracy: {accuracy_poly:.2f}\")\n",
        "print(f\"RBF Kernel Accuracy: {accuracy_rbf:.2f}\")\n"
      ],
      "metadata": {
        "colab": {
          "base_uri": "https://localhost:8080/"
        },
        "id": "77_SUF6P9g-g",
        "outputId": "c7da9c8b-04ea-4a97-ebd4-9f784d658347"
      },
      "execution_count": 18,
      "outputs": [
        {
          "output_type": "stream",
          "name": "stdout",
          "text": [
            "Linear Kernel Accuracy: 0.96\n",
            "Polynomial Kernel Accuracy: 0.95\n",
            "RBF Kernel Accuracy: 0.95\n"
          ]
        }
      ]
    },
    {
      "cell_type": "markdown",
      "source": [
        "38. Write a Python program to train an SVM Classifier using Stratified K-Fold Cross-Validation and compute the average accuracy."
      ],
      "metadata": {
        "id": "7xZg-ssF9xMc"
      }
    },
    {
      "cell_type": "code",
      "source": [
        "#Answer:\n",
        "\n",
        "from sklearn.datasets import load_breast_cancer\n",
        "from sklearn.svm import SVC\n",
        "from sklearn.model_selection import StratifiedKFold, cross_val_score\n",
        "import numpy as np\n",
        "\n",
        "data = load_breast_cancer()\n",
        "X = data.data\n",
        "y = data.target\n",
        "\n",
        "svm_model = SVC(kernel='rbf', C=1.0, gamma='scale')\n",
        "\n",
        "skf = StratifiedKFold(n_splits=5, shuffle=True, random_state=42)\n",
        "scores = cross_val_score(svm_model, X, y, cv=skf)\n",
        "\n",
        "average_accuracy = np.mean(scores)\n",
        "print(f\"Average accuracy with Stratified K-Fold CV: {average_accuracy:.2f}\")\n"
      ],
      "metadata": {
        "colab": {
          "base_uri": "https://localhost:8080/"
        },
        "id": "u-3_U5xi9svu",
        "outputId": "743903a4-a848-4129-9ec9-5715bdf8a62a"
      },
      "execution_count": 19,
      "outputs": [
        {
          "output_type": "stream",
          "name": "stdout",
          "text": [
            "Average accuracy with Stratified K-Fold CV: 0.91\n"
          ]
        }
      ]
    },
    {
      "cell_type": "markdown",
      "source": [
        "39. Write a Python program to train a Naïve Bayes classifier using different prior probabilities and compare performance."
      ],
      "metadata": {
        "id": "SrkI6Crr97_K"
      }
    },
    {
      "cell_type": "code",
      "source": [
        "#Answer:\n",
        "\n",
        "from sklearn.datasets import load_breast_cancer\n",
        "from sklearn.model_selection import train_test_split\n",
        "from sklearn.naive_bayes import GaussianNB\n",
        "from sklearn.metrics import accuracy_score\n",
        "\n",
        "data = load_breast_cancer()\n",
        "X = data.data\n",
        "y = data.target\n",
        "\n",
        "X_train, X_test, y_train, y_test = train_test_split(X, y, test_size=0.2, random_state=42)\n",
        "\n",
        "gnb_default = GaussianNB()\n",
        "gnb_default.fit(X_train, y_train)\n",
        "y_pred_default = gnb_default.predict(X_test)\n",
        "accuracy_default = accuracy_score(y_test, y_pred_default)\n",
        "\n",
        "gnb_prior = GaussianNB(priors=[0.3, 0.7])\n",
        "gnb_prior.fit(X_train, y_train)\n",
        "y_pred_prior = gnb_prior.predict(X_test)\n",
        "accuracy_prior = accuracy_score(y_test, y_pred_prior)\n",
        "\n",
        "print(f\"Accuracy with default priors: {accuracy_default:.2f}\")\n",
        "print(f\"Accuracy with custom priors [0.3, 0.7]: {accuracy_prior:.2f}\")\n"
      ],
      "metadata": {
        "colab": {
          "base_uri": "https://localhost:8080/"
        },
        "id": "uGsEclg493KI",
        "outputId": "a19dd1cf-9aed-4c7e-e317-cfbc82c91116"
      },
      "execution_count": 20,
      "outputs": [
        {
          "output_type": "stream",
          "name": "stdout",
          "text": [
            "Accuracy with default priors: 0.97\n",
            "Accuracy with custom priors [0.3, 0.7]: 0.96\n"
          ]
        }
      ]
    },
    {
      "cell_type": "markdown",
      "source": [
        "40. Write a Python program to perform Recursive Feature Elimination (RFE) before training an SVM Classifier and compare accuracy."
      ],
      "metadata": {
        "id": "bdg-Xfhk-CqV"
      }
    },
    {
      "cell_type": "code",
      "source": [
        "#Answer:\n",
        "\n",
        "from sklearn.datasets import load_breast_cancer\n",
        "from sklearn.model_selection import train_test_split\n",
        "from sklearn.svm import SVC\n",
        "from sklearn.feature_selection import RFE\n",
        "from sklearn.metrics import accuracy_score\n",
        "\n",
        "data = load_breast_cancer()\n",
        "X = data.data\n",
        "y = data.target\n",
        "\n",
        "X_train, X_test, y_train, y_test = train_test_split(X, y, test_size=0.2, random_state=42)\n",
        "\n",
        "svm_full = SVC(kernel='rbf', C=1.0, gamma='scale')\n",
        "svm_full.fit(X_train, y_train)\n",
        "y_pred_full = svm_full.predict(X_test)\n",
        "accuracy_full = accuracy_score(y_test, y_pred_full)\n",
        "\n",
        "selector = RFE(estimator=SVC(kernel='linear'), n_features_to_select=10, step=1)\n",
        "X_train_rfe = selector.fit_transform(X_train, y_train)\n",
        "X_test_rfe = selector.transform(X_test)\n",
        "\n",
        "svm_rfe = SVC(kernel='rbf', C=1.0, gamma='scale')\n",
        "svm_rfe.fit(X_train_rfe, y_train)\n",
        "y_pred_rfe = svm_rfe.predict(X_test_rfe)\n",
        "accuracy_rfe = accuracy_score(y_test, y_pred_rfe)\n",
        "\n",
        "print(f\"Accuracy without RFE: {accuracy_full:.2f}\")\n",
        "print(f\"Accuracy with RFE (top 10 features): {accuracy_rfe:.2f}\")\n"
      ],
      "metadata": {
        "colab": {
          "base_uri": "https://localhost:8080/"
        },
        "id": "ZDSgqCKm-B4E",
        "outputId": "5c827f20-fd33-4700-cad9-e6872d44e6da"
      },
      "execution_count": 21,
      "outputs": [
        {
          "output_type": "stream",
          "name": "stdout",
          "text": [
            "Accuracy without RFE: 0.95\n",
            "Accuracy with RFE (top 10 features): 0.95\n"
          ]
        }
      ]
    },
    {
      "cell_type": "markdown",
      "source": [
        "41. Write a Python program to train an SVM Classifier and evaluate its performance using Precision, Recall, and F1-Score instead of accuracy."
      ],
      "metadata": {
        "id": "D6fbVpr3-QxV"
      }
    },
    {
      "cell_type": "code",
      "source": [
        "from sklearn.datasets import load_breast_cancer\n",
        "from sklearn.model_selection import train_test_split\n",
        "from sklearn.svm import SVC\n",
        "from sklearn.metrics import precision_score, recall_score, f1_score\n",
        "\n",
        "data = load_breast_cancer()\n",
        "X = data.data\n",
        "y = data.target\n",
        "\n",
        "X_train, X_test, y_train, y_test = train_test_split(X, y, test_size=0.2, random_state=42)\n",
        "\n",
        "svm_model = SVC(kernel='rbf', C=1.0, gamma='scale')\n",
        "svm_model.fit(X_train, y_train)\n",
        "y_pred = svm_model.predict(X_test)\n",
        "\n",
        "precision = precision_score(y_test, y_pred)\n",
        "recall = recall_score(y_test, y_pred)\n",
        "f1 = f1_score(y_test, y_pred)\n",
        "\n",
        "print(f\"Precision: {precision:.2f}\")\n",
        "print(f\"Recall: {recall:.2f}\")\n",
        "print(f\"F1-Score: {f1:.2f}\")\n"
      ],
      "metadata": {
        "colab": {
          "base_uri": "https://localhost:8080/"
        },
        "id": "WKx7Uu7O-MJa",
        "outputId": "384ee4f9-dbe2-4dd9-c66e-69f26452ca92"
      },
      "execution_count": 22,
      "outputs": [
        {
          "output_type": "stream",
          "name": "stdout",
          "text": [
            "Precision: 0.92\n",
            "Recall: 1.00\n",
            "F1-Score: 0.96\n"
          ]
        }
      ]
    },
    {
      "cell_type": "markdown",
      "source": [
        "42.  Write a Python program to train a Naïve Bayes Classifier and evaluate its performance using Log Loss (Cross-Entropy Loss)."
      ],
      "metadata": {
        "id": "hQu7x_Rv_HPO"
      }
    },
    {
      "cell_type": "code",
      "source": [
        "#Answer:\n",
        "\n",
        "from sklearn.datasets import load_breast_cancer\n",
        "from sklearn.model_selection import train_test_split\n",
        "from sklearn.naive_bayes import GaussianNB\n",
        "from sklearn.metrics import log_loss\n",
        "\n",
        "data = load_breast_cancer()\n",
        "X = data.data\n",
        "y = data.target\n",
        "\n",
        "X_train, X_test, y_train, y_test = train_test_split(X, y, test_size=0.2, random_state=42)\n",
        "\n",
        "gnb_model = GaussianNB()\n",
        "gnb_model.fit(X_train, y_train)\n",
        "y_prob = gnb_model.predict_proba(X_test)\n",
        "\n",
        "logloss = log_loss(y_test, y_prob)\n",
        "print(f\"Naïve Bayes Log Loss: {logloss:.4f}\")\n"
      ],
      "metadata": {
        "colab": {
          "base_uri": "https://localhost:8080/"
        },
        "id": "KUScEfmD-VvK",
        "outputId": "9fc0d09f-c201-4382-e2ba-4dd33b9530ac"
      },
      "execution_count": 23,
      "outputs": [
        {
          "output_type": "stream",
          "name": "stdout",
          "text": [
            "Naïve Bayes Log Loss: 0.2037\n"
          ]
        }
      ]
    },
    {
      "cell_type": "markdown",
      "source": [
        "43. Write a Python program to train an SVM Classifier and visualize the Confusion Matrix using seaborn."
      ],
      "metadata": {
        "id": "mKHK5RFj_VRi"
      }
    },
    {
      "cell_type": "code",
      "source": [
        "#Answer:\n",
        "\n",
        "from sklearn.datasets import load_breast_cancer\n",
        "from sklearn.model_selection import train_test_split\n",
        "from sklearn.svm import SVC\n",
        "from sklearn.metrics import confusion_matrix\n",
        "import seaborn as sns\n",
        "import matplotlib.pyplot as plt\n",
        "\n",
        "data = load_breast_cancer()\n",
        "X = data.data\n",
        "y = data.target\n",
        "\n",
        "X_train, X_test, y_train, y_test = train_test_split(X, y, test_size=0.2, random_state=42)\n",
        "\n",
        "svm_model = SVC(kernel='rbf', C=1.0, gamma='scale')\n",
        "svm_model.fit(X_train, y_train)\n",
        "y_pred = svm_model.predict(X_test)\n",
        "\n",
        "cm = confusion_matrix(y_test, y_pred)\n",
        "sns.heatmap(cm, annot=True, fmt='d', cmap='Blues', xticklabels=data.target_names, yticklabels=data.target_names)\n",
        "plt.xlabel('Predicted')\n",
        "plt.ylabel('Actual')\n",
        "plt.title('Confusion Matrix')\n",
        "plt.show()\n"
      ],
      "metadata": {
        "colab": {
          "base_uri": "https://localhost:8080/",
          "height": 472
        },
        "id": "qCu-YjDs_SV_",
        "outputId": "dadccfe2-985c-411b-a313-910d5e628230"
      },
      "execution_count": 24,
      "outputs": [
        {
          "output_type": "display_data",
          "data": {
            "text/plain": [
              "<Figure size 640x480 with 2 Axes>"
            ],
            "image/png": "[encoded data removed]"
          },
          "metadata": {}
        }
      ]
    },
    {
      "cell_type": "markdown",
      "source": [
        "44. Write a Python program to train an SVM Regressor (SVR) and evaluate its performance using Mean Absolute Error (MAE) instead of MSE."
      ],
      "metadata": {
        "id": "14t5MBCO_iTG"
      }
    },
    {
      "cell_type": "code",
      "source": [
        "from sklearn.datasets import fetch_california_housing\n",
        "from sklearn.model_selection import train_test_split\n",
        "from sklearn.svm import SVR\n",
        "from sklearn.metrics import mean_absolute_error\n",
        "from sklearn.preprocessing import StandardScaler\n",
        "\n",
        "housing = fetch_california_housing()\n",
        "X = housing.data\n",
        "y = housing.target\n",
        "\n",
        "X_train, X_test, y_train, y_test = train_test_split(X, y, test_size=0.2, random_state=42)\n",
        "\n",
        "scaler = StandardScaler()\n",
        "X_train_scaled = scaler.fit_transform(X_train)\n",
        "X_test_scaled = scaler.transform(X_test)\n",
        "\n",
        "svr_model = SVR(kernel='rbf', C=100, gamma=0.1, epsilon=0.1)\n",
        "svr_model.fit(X_train_scaled, y_train)\n",
        "\n",
        "y_pred = svr_model.predict(X_test_scaled)\n",
        "\n",
        "mae = mean_absolute_error(y_test, y_pred)\n",
        "print(f\"SVR Mean Absolute Error: {mae:.2f}\")\n"
      ],
      "metadata": {
        "colab": {
          "base_uri": "https://localhost:8080/"
        },
        "id": "GOhbeuvl_d2v",
        "outputId": "1a662671-468a-45ed-d77a-88fb4f94de2c"
      },
      "execution_count": 25,
      "outputs": [
        {
          "output_type": "stream",
          "name": "stdout",
          "text": [
            "SVR Mean Absolute Error: 0.37\n"
          ]
        }
      ]
    },
    {
      "cell_type": "markdown",
      "source": [
        "45. Write a Python program to train a Naïve Bayes classifier and evaluate its performance using the ROC-AUC score."
      ],
      "metadata": {
        "id": "1KBFjN-k_vdf"
      }
    },
    {
      "cell_type": "code",
      "source": [
        "#Answer:\n",
        "\n",
        "from sklearn.datasets import load_breast_cancer\n",
        "from sklearn.model_selection import train_test_split\n",
        "from sklearn.naive_bayes import GaussianNB\n",
        "from sklearn.metrics import roc_auc_score\n",
        "\n",
        "data = load_breast_cancer()\n",
        "X = data.data\n",
        "y = data.target\n",
        "\n",
        "X_train, X_test, y_train, y_test = train_test_split(X, y, test_size=0.2, random_state=42)\n",
        "\n",
        "gnb = GaussianNB()\n",
        "gnb.fit(X_train, y_train)\n",
        "y_prob = gnb.predict_proba(X_test)[:, 1]\n",
        "\n",
        "roc_auc = roc_auc_score(y_test, y_prob)\n",
        "print(f\"Naïve Bayes ROC-AUC Score: {roc_auc:.2f}\")\n"
      ],
      "metadata": {
        "colab": {
          "base_uri": "https://localhost:8080/"
        },
        "id": "pmGVVmKp_ntg",
        "outputId": "158d02fa-dbca-442a-c381-90ad51299d27"
      },
      "execution_count": 26,
      "outputs": [
        {
          "output_type": "stream",
          "name": "stdout",
          "text": [
            "Naïve Bayes ROC-AUC Score: 1.00\n"
          ]
        }
      ]
    },
    {
      "cell_type": "markdown",
      "source": [
        "46.  Write a Python program to train an SVM Classifier and visualize the Precision-Recall Curve."
      ],
      "metadata": {
        "id": "rcPPEuDdAM2b"
      }
    },
    {
      "cell_type": "code",
      "source": [
        "#Answer:\n",
        "\n",
        "from sklearn.datasets import load_breast_cancer\n",
        "from sklearn.model_selection import train_test_split\n",
        "from sklearn.svm import SVC\n",
        "from sklearn.metrics import precision_recall_curve, average_precision_score\n",
        "import matplotlib.pyplot as plt\n",
        "\n",
        "data = load_breast_cancer()\n",
        "X = data.data\n",
        "y = data.target\n",
        "\n",
        "X_train, X_test, y_train, y_test = train_test_split(X, y, test_size=0.2, random_state=42)\n",
        "\n",
        "svm_model = SVC(kernel='rbf', C=1.0, gamma='scale', probability=True)\n",
        "svm_model.fit(X_train, y_train)\n",
        "y_scores = svm_model.predict_proba(X_test)[:, 1]\n",
        "\n",
        "precision, recall, thresholds = precision_recall_curve(y_test, y_scores)\n",
        "avg_precision = average_precision_score(y_test, y_scores)\n",
        "\n",
        "plt.plot(recall, precision, marker='.', label=f'AP={avg_precision:.2f}')\n",
        "plt.xlabel('Recall')\n",
        "plt.ylabel('Precision')\n",
        "plt.title('Precision-Recall Curve')\n",
        "plt.legend()\n",
        "plt.show()\n"
      ],
      "metadata": {
        "colab": {
          "base_uri": "https://localhost:8080/",
          "height": 472
        },
        "id": "claXP5n3_4cE",
        "outputId": "e79f329a-2bea-481f-d8c7-2565f033ddff"
      },
      "execution_count": 27,
      "outputs": [
        {
          "output_type": "display_data",
          "data": {
            "text/plain": [
              "<Figure size 640x480 with 1 Axes>"
            ],
            "image/png": "[encoded data removed]"
          },
          "metadata": {}
        }
      ]
    }
  ]
}